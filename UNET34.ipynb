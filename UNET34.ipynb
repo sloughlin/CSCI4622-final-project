{
 "cells": [
  {
   "cell_type": "code",
   "execution_count": 5,
   "metadata": {},
   "outputs": [
    {
     "name": "stdout",
     "output_type": "stream",
     "text": [
      "Requirement already satisfied: fastai==0.7.0 in /home/sophie/anaconda3/lib/python3.6/site-packages (0.7.0)\n",
      "Requirement already satisfied: pandas in /home/sophie/anaconda3/lib/python3.6/site-packages (from fastai==0.7.0) (0.23.0)\n",
      "Requirement already satisfied: wcwidth in /home/sophie/anaconda3/lib/python3.6/site-packages (from fastai==0.7.0) (0.1.7)\n",
      "Requirement already satisfied: html5lib in /home/sophie/anaconda3/lib/python3.6/site-packages (from fastai==0.7.0) (1.0.1)\n",
      "Requirement already satisfied: decorator in /home/sophie/anaconda3/lib/python3.6/site-packages (from fastai==0.7.0) (4.3.0)\n",
      "Requirement already satisfied: jsonschema in /home/sophie/anaconda3/lib/python3.6/site-packages (from fastai==0.7.0) (2.6.0)\n",
      "Requirement already satisfied: ipywidgets in /home/sophie/anaconda3/lib/python3.6/site-packages (from fastai==0.7.0) (7.2.1)\n",
      "Requirement already satisfied: numpy in /home/sophie/anaconda3/lib/python3.6/site-packages (from fastai==0.7.0) (1.14.3)\n",
      "Requirement already satisfied: bcolz in /home/sophie/anaconda3/lib/python3.6/site-packages (from fastai==0.7.0) (1.2.1)\n",
      "Requirement already satisfied: simplegeneric in /home/sophie/anaconda3/lib/python3.6/site-packages (from fastai==0.7.0) (0.8.1)\n",
      "Requirement already satisfied: pickleshare in /home/sophie/anaconda3/lib/python3.6/site-packages (from fastai==0.7.0) (0.7.4)\n",
      "Requirement already satisfied: testpath in /home/sophie/anaconda3/lib/python3.6/site-packages (from fastai==0.7.0) (0.3.1)\n",
      "Requirement already satisfied: torchvision in /home/sophie/anaconda3/lib/python3.6/site-packages (from fastai==0.7.0) (0.2.1)\n",
      "Requirement already satisfied: matplotlib in /home/sophie/anaconda3/lib/python3.6/site-packages (from fastai==0.7.0) (2.2.2)\n",
      "Requirement already satisfied: pyzmq in /home/sophie/anaconda3/lib/python3.6/site-packages (from fastai==0.7.0) (17.0.0)\n",
      "Requirement already satisfied: certifi in /home/sophie/anaconda3/lib/python3.6/site-packages (from fastai==0.7.0) (2018.4.16)\n",
      "Requirement already satisfied: pytz in /home/sophie/anaconda3/lib/python3.6/site-packages (from fastai==0.7.0) (2018.4)\n",
      "Requirement already satisfied: jupyter in /home/sophie/anaconda3/lib/python3.6/site-packages (from fastai==0.7.0) (1.0.0)\n",
      "Requirement already satisfied: ipython-genutils in /home/sophie/anaconda3/lib/python3.6/site-packages (from fastai==0.7.0) (0.2.0)\n",
      "Requirement already satisfied: Jinja2 in /home/sophie/anaconda3/lib/python3.6/site-packages (from fastai==0.7.0) (2.10)\n",
      "Requirement already satisfied: graphviz in /home/sophie/anaconda3/lib/python3.6/site-packages (from fastai==0.7.0) (0.10.1)\n",
      "Requirement already satisfied: python-dateutil in /home/sophie/anaconda3/lib/python3.6/site-packages (from fastai==0.7.0) (2.7.3)\n",
      "Requirement already satisfied: traitlets in /home/sophie/anaconda3/lib/python3.6/site-packages (from fastai==0.7.0) (4.3.2)\n",
      "Requirement already satisfied: Pygments in /home/sophie/anaconda3/lib/python3.6/site-packages (from fastai==0.7.0) (2.2.0)\n",
      "Requirement already satisfied: Pillow in /home/sophie/anaconda3/lib/python3.6/site-packages (from fastai==0.7.0) (5.1.0)\n",
      "Requirement already satisfied: widgetsnbextension in /home/sophie/anaconda3/lib/python3.6/site-packages (from fastai==0.7.0) (3.2.1)\n",
      "Requirement already satisfied: seaborn in /home/sophie/anaconda3/lib/python3.6/site-packages (from fastai==0.7.0) (0.8.1)\n",
      "Requirement already satisfied: tqdm in /home/sophie/anaconda3/lib/python3.6/site-packages (from fastai==0.7.0) (4.28.1)\n",
      "Requirement already satisfied: PyYAML in /home/sophie/anaconda3/lib/python3.6/site-packages (from fastai==0.7.0) (3.12)\n",
      "Requirement already satisfied: pyparsing in /home/sophie/anaconda3/lib/python3.6/site-packages (from fastai==0.7.0) (2.2.0)\n",
      "Requirement already satisfied: torch<0.4 in /home/sophie/anaconda3/lib/python3.6/site-packages (from fastai==0.7.0) (0.3.1)\n",
      "Requirement already satisfied: bleach in /home/sophie/anaconda3/lib/python3.6/site-packages (from fastai==0.7.0) (2.1.3)\n",
      "Requirement already satisfied: sklearn-pandas in /home/sophie/anaconda3/lib/python3.6/site-packages (from fastai==0.7.0) (1.7.0)\n",
      "Requirement already satisfied: webencodings in /home/sophie/anaconda3/lib/python3.6/site-packages (from fastai==0.7.0) (0.5.1)\n",
      "Requirement already satisfied: isoweek in /home/sophie/anaconda3/lib/python3.6/site-packages (from fastai==0.7.0) (1.3.3)\n",
      "Requirement already satisfied: ipython in /home/sophie/anaconda3/lib/python3.6/site-packages (from fastai==0.7.0) (6.4.0)\n",
      "Requirement already satisfied: pandas-summary in /home/sophie/anaconda3/lib/python3.6/site-packages (from fastai==0.7.0) (0.0.5)\n",
      "Requirement already satisfied: feather-format in /home/sophie/anaconda3/lib/python3.6/site-packages (from fastai==0.7.0) (0.4.0)\n",
      "Requirement already satisfied: tornado in /home/sophie/anaconda3/lib/python3.6/site-packages (from fastai==0.7.0) (5.0.2)\n",
      "Requirement already satisfied: scipy in /home/sophie/anaconda3/lib/python3.6/site-packages (from fastai==0.7.0) (1.1.0)\n",
      "Requirement already satisfied: MarkupSafe in /home/sophie/anaconda3/lib/python3.6/site-packages (from fastai==0.7.0) (1.0)\n",
      "Requirement already satisfied: ipykernel in /home/sophie/anaconda3/lib/python3.6/site-packages (from fastai==0.7.0) (4.8.2)\n",
      "Requirement already satisfied: entrypoints in /home/sophie/anaconda3/lib/python3.6/site-packages (from fastai==0.7.0) (0.2.3)\n",
      "Requirement already satisfied: ptyprocess in /home/sophie/anaconda3/lib/python3.6/site-packages (from fastai==0.7.0) (0.5.2)\n",
      "Requirement already satisfied: torchtext in /home/sophie/anaconda3/lib/python3.6/site-packages (from fastai==0.7.0) (0.2.3)\n",
      "Requirement already satisfied: opencv-python in /home/sophie/anaconda3/lib/python3.6/site-packages (from fastai==0.7.0) (3.4.2.17)\n",
      "Requirement already satisfied: cycler in /home/sophie/anaconda3/lib/python3.6/site-packages (from fastai==0.7.0) (0.10.0)\n",
      "Requirement already satisfied: jedi in /home/sophie/anaconda3/lib/python3.6/site-packages (from fastai==0.7.0) (0.12.0)\n",
      "Requirement already satisfied: plotnine in /home/sophie/anaconda3/lib/python3.6/site-packages (from fastai==0.7.0) (0.5.1)\n",
      "Requirement already satisfied: six>=1.9 in /home/sophie/anaconda3/lib/python3.6/site-packages (from html5lib->fastai==0.7.0) (1.11.0)\n",
      "Requirement already satisfied: nbformat>=4.2.0 in /home/sophie/anaconda3/lib/python3.6/site-packages (from ipywidgets->fastai==0.7.0) (4.4.0)\n",
      "Requirement already satisfied: kiwisolver>=1.0.1 in /home/sophie/anaconda3/lib/python3.6/site-packages (from matplotlib->fastai==0.7.0) (1.0.1)\n",
      "Requirement already satisfied: notebook in /home/sophie/anaconda3/lib/python3.6/site-packages (from jupyter->fastai==0.7.0) (5.5.0)\n",
      "Requirement already satisfied: qtconsole in /home/sophie/anaconda3/lib/python3.6/site-packages (from jupyter->fastai==0.7.0) (4.3.1)\n",
      "Requirement already satisfied: jupyter-console in /home/sophie/anaconda3/lib/python3.6/site-packages (from jupyter->fastai==0.7.0) (5.2.0)\n",
      "Requirement already satisfied: nbconvert in /home/sophie/anaconda3/lib/python3.6/site-packages (from jupyter->fastai==0.7.0) (5.3.1)\n",
      "Requirement already satisfied: scikit-learn>=0.15.0 in /home/sophie/anaconda3/lib/python3.6/site-packages (from sklearn-pandas->fastai==0.7.0) (0.19.1)\n",
      "Requirement already satisfied: backcall in /home/sophie/anaconda3/lib/python3.6/site-packages (from ipython->fastai==0.7.0) (0.1.0)\n",
      "Requirement already satisfied: prompt-toolkit<2.0.0,>=1.0.15 in /home/sophie/anaconda3/lib/python3.6/site-packages (from ipython->fastai==0.7.0) (1.0.15)\n",
      "Requirement already satisfied: pexpect; sys_platform != \"win32\" in /home/sophie/anaconda3/lib/python3.6/site-packages (from ipython->fastai==0.7.0) (4.5.0)\n",
      "Requirement already satisfied: setuptools>=18.5 in /home/sophie/anaconda3/lib/python3.6/site-packages (from ipython->fastai==0.7.0) (39.1.0)\n",
      "Requirement already satisfied: pyarrow>=0.4.0 in /home/sophie/anaconda3/lib/python3.6/site-packages (from feather-format->fastai==0.7.0) (0.11.1)\n",
      "Requirement already satisfied: jupyter_client in /home/sophie/anaconda3/lib/python3.6/site-packages (from ipykernel->fastai==0.7.0) (5.2.3)\n",
      "Requirement already satisfied: requests in /home/sophie/anaconda3/lib/python3.6/site-packages (from torchtext->fastai==0.7.0) (2.18.4)\n",
      "Requirement already satisfied: parso>=0.2.0 in /home/sophie/anaconda3/lib/python3.6/site-packages (from jedi->fastai==0.7.0) (0.2.0)\n",
      "Requirement already satisfied: patsy>=0.4.1 in /home/sophie/anaconda3/lib/python3.6/site-packages (from plotnine->fastai==0.7.0) (0.5.0)\n",
      "Requirement already satisfied: mizani>=0.5.2 in /home/sophie/anaconda3/lib/python3.6/site-packages (from plotnine->fastai==0.7.0) (0.5.2)\n",
      "Requirement already satisfied: descartes>=1.1.0 in /home/sophie/anaconda3/lib/python3.6/site-packages (from plotnine->fastai==0.7.0) (1.1.0)\n",
      "Requirement already satisfied: statsmodels>=0.8.0 in /home/sophie/anaconda3/lib/python3.6/site-packages (from plotnine->fastai==0.7.0) (0.9.0)\n",
      "Requirement already satisfied: jupyter_core in /home/sophie/anaconda3/lib/python3.6/site-packages (from nbformat>=4.2.0->ipywidgets->fastai==0.7.0) (4.4.0)\n",
      "Requirement already satisfied: Send2Trash in /home/sophie/anaconda3/lib/python3.6/site-packages (from notebook->jupyter->fastai==0.7.0) (1.5.0)\n",
      "Requirement already satisfied: terminado>=0.8.1 in /home/sophie/anaconda3/lib/python3.6/site-packages (from notebook->jupyter->fastai==0.7.0) (0.8.1)\n",
      "Requirement already satisfied: mistune>=0.7.4 in /home/sophie/anaconda3/lib/python3.6/site-packages (from nbconvert->jupyter->fastai==0.7.0) (0.8.3)\n",
      "Requirement already satisfied: pandocfilters>=1.4.1 in /home/sophie/anaconda3/lib/python3.6/site-packages (from nbconvert->jupyter->fastai==0.7.0) (1.4.2)\n",
      "Requirement already satisfied: chardet<3.1.0,>=3.0.2 in /home/sophie/anaconda3/lib/python3.6/site-packages (from requests->torchtext->fastai==0.7.0) (3.0.4)\n",
      "Requirement already satisfied: idna<2.7,>=2.5 in /home/sophie/anaconda3/lib/python3.6/site-packages (from requests->torchtext->fastai==0.7.0) (2.6)\n",
      "Requirement already satisfied: urllib3<1.23,>=1.21.1 in /home/sophie/anaconda3/lib/python3.6/site-packages (from requests->torchtext->fastai==0.7.0) (1.22)\n"
     ]
    },
    {
     "name": "stdout",
     "output_type": "stream",
     "text": [
      "Requirement already satisfied: palettable in /home/sophie/anaconda3/lib/python3.6/site-packages (from mizani>=0.5.2->plotnine->fastai==0.7.0) (3.1.1)\r\n"
     ]
    }
   ],
   "source": [
    "!pip install fastai==0.7.0"
   ]
  },
  {
   "cell_type": "code",
   "execution_count": 6,
   "metadata": {
    "_cell_guid": "b1076dfc-b9ad-4769-8c92-a6c4dae69d19",
    "_uuid": "8f2839f25d086af736a60e9eeb907d3b93b6e0e5",
    "scrolled": true
   },
   "outputs": [],
   "source": [
    "from fastai.conv_learner import *\n",
    "from fastai.dataset import *\n",
    "\n",
    "import pandas as pd\n",
    "import numpy as np\n",
    "import os\n",
    "from PIL import Image\n",
    "from sklearn.model_selection import train_test_split"
   ]
  },
  {
   "cell_type": "markdown",
   "metadata": {
    "_uuid": "ddd71a95c05902b29ce4e3768a8127c2a0b7098d"
   },
   "source": [
    "### Data"
   ]
  },
  {
   "cell_type": "code",
   "execution_count": 10,
   "metadata": {
    "_uuid": "b93d5422dfd31f43df9cdd3e301547cc95f25980"
   },
   "outputs": [],
   "source": [
    "PATH = './'\n",
    "TRAIN = 'input/airbus-ship-detection/train/'\n",
    "TEST = 'input/airbus-ship-detection/test/'\n",
    "SEGMENTATION = 'input/airbus-ship-detection/train_ship_segmentations.csv'\n",
    "# PRETRAINED = '../input/fine-tuning-resnet34-on-ship-detection/models/Resnet34_lable_256_1.h5'\n",
    "PRETRAINED = 'input/fine-tuning/models/Resnet34_lable_256_1.h5'\n",
    "exclude_list = ['6384c3e78.jpg','13703f040.jpg', '14715c06d.jpg',  '33e0ff2d5.jpg',\n",
    "                '4d4e09f2a.jpg', '877691df8.jpg', '8b909bb20.jpg', 'a8d99130e.jpg', \n",
    "                'ad55c3143.jpg', 'c8260c541.jpg', 'd6c7f17c7.jpg', 'dc3e7c901.jpg',\n",
    "                'e44dffe88.jpg', 'ef87bad36.jpg', 'f083256d8.jpg'] #corrupted images"
   ]
  },
  {
   "cell_type": "code",
   "execution_count": 11,
   "metadata": {
    "_uuid": "9a72e076dc04cf1786edae26a1d2f15ec3de234a"
   },
   "outputs": [],
   "source": [
    "nw = 2   #number of workers for data loader\n",
    "arch = \"resnet34\" #specify target architecture"
   ]
  },
  {
   "cell_type": "code",
   "execution_count": 14,
   "metadata": {
    "_uuid": "49199ea17e9e9ba9893c10d06c1fb419e22aeb1b"
   },
   "outputs": [
    {
     "ename": "FileNotFoundError",
     "evalue": "File b'./input/airbus-ship-detection/train_ship_segmentations.csv' does not exist",
     "output_type": "error",
     "traceback": [
      "\u001b[0;31m---------------------------------------------------------------------------\u001b[0m",
      "\u001b[0;31mFileNotFoundError\u001b[0m                         Traceback (most recent call last)",
      "\u001b[0;32m<ipython-input-14-a76591b693fe>\u001b[0m in \u001b[0;36m<module>\u001b[0;34m()\u001b[0m\n\u001b[1;32m      6\u001b[0m \u001b[0;31m#5% of data in the validation set is sufficient for model evaluation\u001b[0m\u001b[0;34m\u001b[0m\u001b[0;34m\u001b[0m\u001b[0m\n\u001b[1;32m      7\u001b[0m \u001b[0mtr_n\u001b[0m\u001b[0;34m,\u001b[0m \u001b[0mval_n\u001b[0m \u001b[0;34m=\u001b[0m \u001b[0mtrain_test_split\u001b[0m\u001b[0;34m(\u001b[0m\u001b[0mtrain_names\u001b[0m\u001b[0;34m,\u001b[0m \u001b[0mtest_size\u001b[0m\u001b[0;34m=\u001b[0m\u001b[0;36m0.05\u001b[0m\u001b[0;34m,\u001b[0m \u001b[0mrandom_state\u001b[0m\u001b[0;34m=\u001b[0m\u001b[0;36m42\u001b[0m\u001b[0;34m)\u001b[0m\u001b[0;34m\u001b[0m\u001b[0m\n\u001b[0;32m----> 8\u001b[0;31m \u001b[0msegmentation_df\u001b[0m \u001b[0;34m=\u001b[0m \u001b[0mpd\u001b[0m\u001b[0;34m.\u001b[0m\u001b[0mread_csv\u001b[0m\u001b[0;34m(\u001b[0m\u001b[0mos\u001b[0m\u001b[0;34m.\u001b[0m\u001b[0mpath\u001b[0m\u001b[0;34m.\u001b[0m\u001b[0mjoin\u001b[0m\u001b[0;34m(\u001b[0m\u001b[0mPATH\u001b[0m\u001b[0;34m,\u001b[0m \u001b[0mSEGMENTATION\u001b[0m\u001b[0;34m)\u001b[0m\u001b[0;34m)\u001b[0m\u001b[0;34m.\u001b[0m\u001b[0mset_index\u001b[0m\u001b[0;34m(\u001b[0m\u001b[0;34m'ImageId'\u001b[0m\u001b[0;34m)\u001b[0m\u001b[0;34m\u001b[0m\u001b[0m\n\u001b[0m",
      "\u001b[0;32m~/anaconda3/lib/python3.6/site-packages/pandas/io/parsers.py\u001b[0m in \u001b[0;36mparser_f\u001b[0;34m(filepath_or_buffer, sep, delimiter, header, names, index_col, usecols, squeeze, prefix, mangle_dupe_cols, dtype, engine, converters, true_values, false_values, skipinitialspace, skiprows, nrows, na_values, keep_default_na, na_filter, verbose, skip_blank_lines, parse_dates, infer_datetime_format, keep_date_col, date_parser, dayfirst, iterator, chunksize, compression, thousands, decimal, lineterminator, quotechar, quoting, escapechar, comment, encoding, dialect, tupleize_cols, error_bad_lines, warn_bad_lines, skipfooter, doublequote, delim_whitespace, low_memory, memory_map, float_precision)\u001b[0m\n\u001b[1;32m    676\u001b[0m                     skip_blank_lines=skip_blank_lines)\n\u001b[1;32m    677\u001b[0m \u001b[0;34m\u001b[0m\u001b[0m\n\u001b[0;32m--> 678\u001b[0;31m         \u001b[0;32mreturn\u001b[0m \u001b[0m_read\u001b[0m\u001b[0;34m(\u001b[0m\u001b[0mfilepath_or_buffer\u001b[0m\u001b[0;34m,\u001b[0m \u001b[0mkwds\u001b[0m\u001b[0;34m)\u001b[0m\u001b[0;34m\u001b[0m\u001b[0m\n\u001b[0m\u001b[1;32m    679\u001b[0m \u001b[0;34m\u001b[0m\u001b[0m\n\u001b[1;32m    680\u001b[0m     \u001b[0mparser_f\u001b[0m\u001b[0;34m.\u001b[0m\u001b[0m__name__\u001b[0m \u001b[0;34m=\u001b[0m \u001b[0mname\u001b[0m\u001b[0;34m\u001b[0m\u001b[0m\n",
      "\u001b[0;32m~/anaconda3/lib/python3.6/site-packages/pandas/io/parsers.py\u001b[0m in \u001b[0;36m_read\u001b[0;34m(filepath_or_buffer, kwds)\u001b[0m\n\u001b[1;32m    438\u001b[0m \u001b[0;34m\u001b[0m\u001b[0m\n\u001b[1;32m    439\u001b[0m     \u001b[0;31m# Create the parser.\u001b[0m\u001b[0;34m\u001b[0m\u001b[0;34m\u001b[0m\u001b[0m\n\u001b[0;32m--> 440\u001b[0;31m     \u001b[0mparser\u001b[0m \u001b[0;34m=\u001b[0m \u001b[0mTextFileReader\u001b[0m\u001b[0;34m(\u001b[0m\u001b[0mfilepath_or_buffer\u001b[0m\u001b[0;34m,\u001b[0m \u001b[0;34m**\u001b[0m\u001b[0mkwds\u001b[0m\u001b[0;34m)\u001b[0m\u001b[0;34m\u001b[0m\u001b[0m\n\u001b[0m\u001b[1;32m    441\u001b[0m \u001b[0;34m\u001b[0m\u001b[0m\n\u001b[1;32m    442\u001b[0m     \u001b[0;32mif\u001b[0m \u001b[0mchunksize\u001b[0m \u001b[0;32mor\u001b[0m \u001b[0miterator\u001b[0m\u001b[0;34m:\u001b[0m\u001b[0;34m\u001b[0m\u001b[0m\n",
      "\u001b[0;32m~/anaconda3/lib/python3.6/site-packages/pandas/io/parsers.py\u001b[0m in \u001b[0;36m__init__\u001b[0;34m(self, f, engine, **kwds)\u001b[0m\n\u001b[1;32m    785\u001b[0m             \u001b[0mself\u001b[0m\u001b[0;34m.\u001b[0m\u001b[0moptions\u001b[0m\u001b[0;34m[\u001b[0m\u001b[0;34m'has_index_names'\u001b[0m\u001b[0;34m]\u001b[0m \u001b[0;34m=\u001b[0m \u001b[0mkwds\u001b[0m\u001b[0;34m[\u001b[0m\u001b[0;34m'has_index_names'\u001b[0m\u001b[0;34m]\u001b[0m\u001b[0;34m\u001b[0m\u001b[0m\n\u001b[1;32m    786\u001b[0m \u001b[0;34m\u001b[0m\u001b[0m\n\u001b[0;32m--> 787\u001b[0;31m         \u001b[0mself\u001b[0m\u001b[0;34m.\u001b[0m\u001b[0m_make_engine\u001b[0m\u001b[0;34m(\u001b[0m\u001b[0mself\u001b[0m\u001b[0;34m.\u001b[0m\u001b[0mengine\u001b[0m\u001b[0;34m)\u001b[0m\u001b[0;34m\u001b[0m\u001b[0m\n\u001b[0m\u001b[1;32m    788\u001b[0m \u001b[0;34m\u001b[0m\u001b[0m\n\u001b[1;32m    789\u001b[0m     \u001b[0;32mdef\u001b[0m \u001b[0mclose\u001b[0m\u001b[0;34m(\u001b[0m\u001b[0mself\u001b[0m\u001b[0;34m)\u001b[0m\u001b[0;34m:\u001b[0m\u001b[0;34m\u001b[0m\u001b[0m\n",
      "\u001b[0;32m~/anaconda3/lib/python3.6/site-packages/pandas/io/parsers.py\u001b[0m in \u001b[0;36m_make_engine\u001b[0;34m(self, engine)\u001b[0m\n\u001b[1;32m   1012\u001b[0m     \u001b[0;32mdef\u001b[0m \u001b[0m_make_engine\u001b[0m\u001b[0;34m(\u001b[0m\u001b[0mself\u001b[0m\u001b[0;34m,\u001b[0m \u001b[0mengine\u001b[0m\u001b[0;34m=\u001b[0m\u001b[0;34m'c'\u001b[0m\u001b[0;34m)\u001b[0m\u001b[0;34m:\u001b[0m\u001b[0;34m\u001b[0m\u001b[0m\n\u001b[1;32m   1013\u001b[0m         \u001b[0;32mif\u001b[0m \u001b[0mengine\u001b[0m \u001b[0;34m==\u001b[0m \u001b[0;34m'c'\u001b[0m\u001b[0;34m:\u001b[0m\u001b[0;34m\u001b[0m\u001b[0m\n\u001b[0;32m-> 1014\u001b[0;31m             \u001b[0mself\u001b[0m\u001b[0;34m.\u001b[0m\u001b[0m_engine\u001b[0m \u001b[0;34m=\u001b[0m \u001b[0mCParserWrapper\u001b[0m\u001b[0;34m(\u001b[0m\u001b[0mself\u001b[0m\u001b[0;34m.\u001b[0m\u001b[0mf\u001b[0m\u001b[0;34m,\u001b[0m \u001b[0;34m**\u001b[0m\u001b[0mself\u001b[0m\u001b[0;34m.\u001b[0m\u001b[0moptions\u001b[0m\u001b[0;34m)\u001b[0m\u001b[0;34m\u001b[0m\u001b[0m\n\u001b[0m\u001b[1;32m   1015\u001b[0m         \u001b[0;32melse\u001b[0m\u001b[0;34m:\u001b[0m\u001b[0;34m\u001b[0m\u001b[0m\n\u001b[1;32m   1016\u001b[0m             \u001b[0;32mif\u001b[0m \u001b[0mengine\u001b[0m \u001b[0;34m==\u001b[0m \u001b[0;34m'python'\u001b[0m\u001b[0;34m:\u001b[0m\u001b[0;34m\u001b[0m\u001b[0m\n",
      "\u001b[0;32m~/anaconda3/lib/python3.6/site-packages/pandas/io/parsers.py\u001b[0m in \u001b[0;36m__init__\u001b[0;34m(self, src, **kwds)\u001b[0m\n\u001b[1;32m   1706\u001b[0m         \u001b[0mkwds\u001b[0m\u001b[0;34m[\u001b[0m\u001b[0;34m'usecols'\u001b[0m\u001b[0;34m]\u001b[0m \u001b[0;34m=\u001b[0m \u001b[0mself\u001b[0m\u001b[0;34m.\u001b[0m\u001b[0musecols\u001b[0m\u001b[0;34m\u001b[0m\u001b[0m\n\u001b[1;32m   1707\u001b[0m \u001b[0;34m\u001b[0m\u001b[0m\n\u001b[0;32m-> 1708\u001b[0;31m         \u001b[0mself\u001b[0m\u001b[0;34m.\u001b[0m\u001b[0m_reader\u001b[0m \u001b[0;34m=\u001b[0m \u001b[0mparsers\u001b[0m\u001b[0;34m.\u001b[0m\u001b[0mTextReader\u001b[0m\u001b[0;34m(\u001b[0m\u001b[0msrc\u001b[0m\u001b[0;34m,\u001b[0m \u001b[0;34m**\u001b[0m\u001b[0mkwds\u001b[0m\u001b[0;34m)\u001b[0m\u001b[0;34m\u001b[0m\u001b[0m\n\u001b[0m\u001b[1;32m   1709\u001b[0m \u001b[0;34m\u001b[0m\u001b[0m\n\u001b[1;32m   1710\u001b[0m         \u001b[0mpassed_names\u001b[0m \u001b[0;34m=\u001b[0m \u001b[0mself\u001b[0m\u001b[0;34m.\u001b[0m\u001b[0mnames\u001b[0m \u001b[0;32mis\u001b[0m \u001b[0;32mNone\u001b[0m\u001b[0;34m\u001b[0m\u001b[0m\n",
      "\u001b[0;32mpandas/_libs/parsers.pyx\u001b[0m in \u001b[0;36mpandas._libs.parsers.TextReader.__cinit__\u001b[0;34m()\u001b[0m\n",
      "\u001b[0;32mpandas/_libs/parsers.pyx\u001b[0m in \u001b[0;36mpandas._libs.parsers.TextReader._setup_parser_source\u001b[0;34m()\u001b[0m\n",
      "\u001b[0;31mFileNotFoundError\u001b[0m: File b'./input/airbus-ship-detection/train_ship_segmentations.csv' does not exist"
     ]
    }
   ],
   "source": [
    "train_names = [f for f in os.listdir(TRAIN)]\n",
    "test_names = [f for f in os.listdir(TEST)]\n",
    "for el in exclude_list:\n",
    "    if(el in train_names): train_names.remove(el)\n",
    "    if(el in test_names): test_names.remove(el)\n",
    "#5% of data in the validation set is sufficient for model evaluation\n",
    "tr_n, val_n = train_test_split(train_names, test_size=0.05, random_state=42)\n",
    "segmentation_df = pd.read_csv(os.path.join(PATH, SEGMENTATION)).set_index('ImageId')"
   ]
  },
  {
   "cell_type": "code",
   "execution_count": null,
   "metadata": {
    "_uuid": "6a3d8c70e03964738322ca99084f088adc1c5f3e"
   },
   "outputs": [],
   "source": [
    "def cut_empty(names):\n",
    "    return [name for name in names \n",
    "            if(type(segmentation_df.loc[name]['EncodedPixels']) != float)]\n",
    "\n",
    "tr_n = cut_empty(tr_n)\n",
    "val_n = cut_empty(val_n)"
   ]
  },
  {
   "cell_type": "code",
   "execution_count": null,
   "metadata": {
    "_uuid": "505f803555b8d9d0378a73d227da4b8174f2086d"
   },
   "outputs": [],
   "source": [
    "def get_mask(img_id, df):\n",
    "    shape = (768,768)\n",
    "    img = np.zeros(shape[0]*shape[1], dtype=np.uint8)\n",
    "    masks = df.loc[img_id]['EncodedPixels']\n",
    "    if(type(masks) == float): return img.reshape(shape)\n",
    "    if(type(masks) == str): masks = [masks]\n",
    "    for mask in masks:\n",
    "        s = mask.split()\n",
    "        for i in range(len(s)//2):\n",
    "            start = int(s[2*i]) - 1\n",
    "            length = int(s[2*i+1])\n",
    "            img[start:start+length] = 1\n",
    "    return img.reshape(shape).T"
   ]
  },
  {
   "cell_type": "code",
   "execution_count": null,
   "metadata": {
    "_uuid": "f67a326e1269bffca392fcf4ac10bf4a532ca56b",
    "collapsed": true
   },
   "outputs": [],
   "source": [
    "class pdFilesDataset(FilesDataset):\n",
    "    def __init__(self, fnames, path, transform):\n",
    "        self.segmentation_df = pd.read_csv(SEGMENTATION).set_index('ImageId')\n",
    "        super().__init__(fnames, transform, path)\n",
    "    \n",
    "    def get_x(self, i):\n",
    "        img = open_image(os.path.join(self.path, self.fnames[i]))\n",
    "        if self.sz == 768: return img \n",
    "        else: return cv2.resize(img, (self.sz, self.sz))\n",
    "    \n",
    "    def get_y(self, i):\n",
    "        mask = np.zeros((768,768), dtype=np.uint8) if (self.path == TEST) \\\n",
    "            else get_mask(self.fnames[i], self.segmentation_df)\n",
    "        img = Image.fromarray(mask).resize((self.sz, self.sz)).convert('RGB')\n",
    "        return np.array(img).astype(np.float32)\n",
    "    \n",
    "    def get_c(self): return 0"
   ]
  },
  {
   "cell_type": "code",
   "execution_count": null,
   "metadata": {
    "_uuid": "649601eb0bd110b02f15349cc9d26d60ddeee953",
    "collapsed": true
   },
   "outputs": [],
   "source": [
    "class RandomLighting(Transform):\n",
    "    def __init__(self, b, c, tfm_y=TfmType.NO):\n",
    "        super().__init__(tfm_y)\n",
    "        self.b,self.c = b,c\n",
    "\n",
    "    def set_state(self):\n",
    "        self.store.b_rand = rand0(self.b)\n",
    "        self.store.c_rand = rand0(self.c)\n",
    "\n",
    "    def do_transform(self, x, is_y):\n",
    "        if is_y and self.tfm_y != TfmType.PIXEL: return x  #add this line to fix the bug\n",
    "        b = self.store.b_rand\n",
    "        c = self.store.c_rand\n",
    "        c = -1/(c-1) if c<0 else c+1\n",
    "        x = lighting(x, b, c)\n",
    "        return x"
   ]
  },
  {
   "cell_type": "code",
   "execution_count": null,
   "metadata": {
    "_uuid": "835b75b3508f418bac53ee6725694af208e1f28c",
    "collapsed": true
   },
   "outputs": [],
   "source": [
    "def get_data(sz,bs):\n",
    "    #data augmentation\n",
    "    aug_tfms = [RandomRotate(20, tfm_y=TfmType.CLASS),\n",
    "                RandomDihedral(tfm_y=TfmType.CLASS),\n",
    "                RandomLighting(0.05, 0.05, tfm_y=TfmType.CLASS)]\n",
    "    tfms = tfms_from_model(arch, sz, crop_type=CropType.NO, tfm_y=TfmType.CLASS, \n",
    "                aug_tfms=aug_tfms)\n",
    "    tr_names = tr_n if (len(tr_n)%bs == 0) else tr_n[:-(len(tr_n)%bs)] #cut incomplete batch\n",
    "    ds = ImageData.get_ds(pdFilesDataset, (tr_names,TRAIN), \n",
    "                (val_n,TRAIN), tfms, test=(test_names,TEST))\n",
    "    md = ImageData(PATH, ds, bs, num_workers=nw, classes=None)\n",
    "    md.is_multi = False\n",
    "    return md"
   ]
  },
  {
   "cell_type": "markdown",
   "metadata": {
    "_uuid": "2b77a79e1e1e3f4c8a9e7120feb9a843b41492f8",
    "collapsed": true
   },
   "source": [
    "### Model"
   ]
  },
  {
   "cell_type": "code",
   "execution_count": null,
   "metadata": {
    "_uuid": "5bfefb757e1d40da7d8761c824170214a4bec08b",
    "collapsed": true
   },
   "outputs": [],
   "source": [
    "cut,lr_cut = model_meta[arch]"
   ]
  },
  {
   "cell_type": "code",
   "execution_count": null,
   "metadata": {
    "_uuid": "7b0649b17721919f475a99f41f47f09c4fcc41d6",
    "collapsed": true
   },
   "outputs": [],
   "source": [
    "def get_base():                   #load ResNet34 model\n",
    "    layers = cut_model(arch(True), cut)\n",
    "    return nn.Sequential(*layers)\n",
    "\n",
    "def load_pretrained(model, path): #load a model pretrained on ship/no-ship classification\n",
    "    weights = torch.load(PRETRAINED, map_location=lambda storage, loc: storage)\n",
    "    model.load_state_dict(weights, strict=False)\n",
    "            \n",
    "    return model"
   ]
  },
  {
   "cell_type": "code",
   "execution_count": null,
   "metadata": {
    "_uuid": "77ca73006aec0c9dfe4be6deb2d6cf524840cd62",
    "collapsed": true
   },
   "outputs": [],
   "source": [
    "class UnetBlock(nn.Module):\n",
    "    def __init__(self, up_in, x_in, n_out):\n",
    "        super().__init__()\n",
    "        up_out = x_out = n_out//2\n",
    "        self.x_conv  = nn.Conv2d(x_in,  x_out,  1)\n",
    "        self.tr_conv = nn.ConvTranspose2d(up_in, up_out, 2, stride=2)\n",
    "        self.bn = nn.BatchNorm2d(n_out)\n",
    "        \n",
    "    def forward(self, up_p, x_p):\n",
    "        up_p = self.tr_conv(up_p)\n",
    "        x_p = self.x_conv(x_p)\n",
    "        cat_p = torch.cat([up_p,x_p], dim=1)\n",
    "        return self.bn(F.relu(cat_p))\n",
    "\n",
    "class SaveFeatures():\n",
    "    features=None\n",
    "    def __init__(self, m): self.hook = m.register_forward_hook(self.hook_fn)\n",
    "    def hook_fn(self, module, input, output): self.features = output\n",
    "    def remove(self): self.hook.remove()\n",
    "    \n",
    "class Unet34(nn.Module):\n",
    "    def __init__(self, rn):\n",
    "        super().__init__()\n",
    "        self.rn = rn\n",
    "        self.sfs = [SaveFeatures(rn[i]) for i in [2,4,5,6]]\n",
    "        self.up1 = UnetBlock(512,256,256)\n",
    "        self.up2 = UnetBlock(256,128,256)\n",
    "        self.up3 = UnetBlock(256,64,256)\n",
    "        self.up4 = UnetBlock(256,64,256)\n",
    "        self.up5 = nn.ConvTranspose2d(256, 1, 2, stride=2)\n",
    "        \n",
    "    def forward(self,x):\n",
    "        x = F.relu(self.rn(x))\n",
    "        x = self.up1(x, self.sfs[3].features)\n",
    "        x = self.up2(x, self.sfs[2].features)\n",
    "        x = self.up3(x, self.sfs[1].features)\n",
    "        x = self.up4(x, self.sfs[0].features)\n",
    "        x = self.up5(x)\n",
    "        return x[:,0]\n",
    "    \n",
    "    def close(self):\n",
    "        for sf in self.sfs: sf.remove()\n",
    "            \n",
    "class UnetModel():\n",
    "    def __init__(self,model,name='Unet'):\n",
    "        self.model,self.name = model,name\n",
    "\n",
    "    def get_layer_groups(self, precompute):\n",
    "        lgs = list(split_by_idxs(children(self.model.rn), [lr_cut]))\n",
    "        return lgs + [children(self.model)[1:]]"
   ]
  },
  {
   "cell_type": "markdown",
   "metadata": {
    "_uuid": "9c71a3af2a83b1122902a3f39e6fda1af5afbb99",
    "collapsed": true
   },
   "source": [
    "### Loss function"
   ]
  },
  {
   "cell_type": "code",
   "execution_count": null,
   "metadata": {
    "_uuid": "8de4222fd28596dbae5d55f8172ac28271f678f2",
    "collapsed": true
   },
   "outputs": [],
   "source": [
    "def dice_loss(input, target):\n",
    "    input = torch.sigmoid(input)\n",
    "    smooth = 1.0\n",
    "\n",
    "    iflat = input.view(-1)\n",
    "    tflat = target.view(-1)\n",
    "    intersection = (iflat * tflat).sum()\n",
    "    \n",
    "    return ((2.0 * intersection + smooth) / (iflat.sum() + tflat.sum() + smooth))"
   ]
  },
  {
   "cell_type": "code",
   "execution_count": null,
   "metadata": {
    "_uuid": "456acf8ffe7b80cd94eb73bfaeb6b1061bbb44c7",
    "collapsed": true
   },
   "outputs": [],
   "source": [
    "class FocalLoss(nn.Module):\n",
    "    def __init__(self, gamma):\n",
    "        super().__init__()\n",
    "        self.gamma = gamma\n",
    "        \n",
    "    def forward(self, input, target):\n",
    "        if not (target.size() == input.size()):\n",
    "            raise ValueError(\"Target size ({}) must be the same as input size ({})\"\n",
    "                             .format(target.size(), input.size()))\n",
    "\n",
    "        max_val = (-input).clamp(min=0)\n",
    "        loss = input - input * target + max_val + \\\n",
    "            ((-max_val).exp() + (-input - max_val).exp()).log()\n",
    "\n",
    "        invprobs = F.logsigmoid(-input * (target * 2.0 - 1.0))\n",
    "        loss = (invprobs * self.gamma).exp() * loss\n",
    "        \n",
    "        return loss.mean()"
   ]
  },
  {
   "cell_type": "code",
   "execution_count": null,
   "metadata": {
    "_uuid": "1cfb00a50821861c69534ee7398bd220c02900d8",
    "collapsed": true
   },
   "outputs": [],
   "source": [
    "class MixedLoss(nn.Module):\n",
    "    def __init__(self, alpha, gamma):\n",
    "        super().__init__()\n",
    "        self.alpha = alpha\n",
    "        self.focal = FocalLoss(gamma)\n",
    "        \n",
    "    def forward(self, input, target):\n",
    "        loss = self.alpha*self.focal(input, target) - torch.log(dice_loss(input, target))\n",
    "        return loss.mean()"
   ]
  },
  {
   "cell_type": "code",
   "execution_count": null,
   "metadata": {
    "_uuid": "37baddf38bb569cbf2d2f186a5171767402b94fa",
    "collapsed": true
   },
   "outputs": [],
   "source": [
    "def dice(pred, targs):\n",
    "    pred = (pred>0).float()\n",
    "    return 2.0 * (pred*targs).sum() / ((pred+targs).sum() + 1.0)\n",
    "\n",
    "def IoU(pred, targs):\n",
    "    pred = (pred>0).float()\n",
    "    intersection = (pred*targs).sum()\n",
    "    return intersection / ((pred+targs).sum() - intersection + 1.0)"
   ]
  },
  {
   "cell_type": "markdown",
   "metadata": {
    "_uuid": "0b3a20e5e2fdedf1439737f40c14c78f9a69e29a"
   },
   "source": [
    "### Training"
   ]
  },
  {
   "cell_type": "code",
   "execution_count": null,
   "metadata": {
    "_uuid": "1a3b8f6b454a8d8b48505fbc5964e900a59ef09e",
    "collapsed": true,
    "scrolled": false
   },
   "outputs": [],
   "source": [
    "m_base = load_pretrained(get_base(),PRETRAINED)\n",
    "m = to_gpu(Unet34(m_base))\n",
    "models = UnetModel(m)"
   ]
  },
  {
   "cell_type": "code",
   "execution_count": null,
   "metadata": {
    "_uuid": "3d52f2e1e45ec597d901a814f592ac153168ebff",
    "collapsed": true
   },
   "outputs": [],
   "source": [
    "models.model"
   ]
  },
  {
   "cell_type": "code",
   "execution_count": null,
   "metadata": {
    "_uuid": "ab92ee6aaa8d31587d1bc6d2cad9e0407444c5de",
    "collapsed": true
   },
   "outputs": [],
   "source": [
    "sz = 256 #image size\n",
    "bs = 64  #batch size\n",
    "\n",
    "md = get_data(sz,bs)"
   ]
  },
  {
   "cell_type": "code",
   "execution_count": null,
   "metadata": {
    "_uuid": "eb1016214b0de75f56d2036241a27684b4c4bd1b",
    "collapsed": true
   },
   "outputs": [],
   "source": [
    "learn = ConvLearner(md, models)\n",
    "learn.opt_fn=optim.Adam\n",
    "learn.crit = MixedLoss(10.0, 2.0)\n",
    "learn.metrics=[accuracy_thresh(0.5),dice,IoU]\n",
    "wd=1e-7\n",
    "lr = 1e-2"
   ]
  },
  {
   "cell_type": "code",
   "execution_count": null,
   "metadata": {
    "_uuid": "4d4aa02ec617bdf974fcdd77497af1ce5d9993aa",
    "collapsed": true
   },
   "outputs": [],
   "source": [
    "learn.freeze_to(1)"
   ]
  },
  {
   "cell_type": "code",
   "execution_count": null,
   "metadata": {
    "_uuid": "fd9510104082f97119adebc00bb16750710266a2",
    "collapsed": true,
    "scrolled": true
   },
   "outputs": [],
   "source": [
    "learn.fit(lr,1,wds=wd,cycle_len=1,use_clr=(5,8))"
   ]
  },
  {
   "cell_type": "code",
   "execution_count": null,
   "metadata": {
    "_uuid": "a06ef9bc205d434ef5be901ea489a368e24d1435",
    "collapsed": true
   },
   "outputs": [],
   "source": [
    "learn.save('Unet34_256_0')"
   ]
  },
  {
   "cell_type": "code",
   "execution_count": null,
   "metadata": {
    "_uuid": "eef154a2aa260f370c9665ec804b1abecdef3ccf",
    "collapsed": true
   },
   "outputs": [],
   "source": [
    "lrs = np.array([lr/100,lr/10,lr])\n",
    "learn.unfreeze() #unfreeze the encoder\n",
    "learn.bn_freeze(True)"
   ]
  },
  {
   "cell_type": "code",
   "execution_count": null,
   "metadata": {
    "_uuid": "8498665da79f8a147b0599142bb4034e399c38aa",
    "collapsed": true
   },
   "outputs": [],
   "source": [
    "learn.fit(lrs,2,wds=wd,cycle_len=1,use_clr=(20,8))"
   ]
  },
  {
   "cell_type": "code",
   "execution_count": null,
   "metadata": {
    "_uuid": "f8d9a6f6ecb66054d32e8c41d316672dbd9bb03b",
    "collapsed": true
   },
   "outputs": [],
   "source": [
    "learn.fit(lrs/3,2,wds=wd,cycle_len=2,use_clr=(20,8))"
   ]
  },
  {
   "cell_type": "code",
   "execution_count": null,
   "metadata": {
    "_uuid": "1fd829270a788812cb9f3f7f5fe7c6e43d934ab7",
    "collapsed": true
   },
   "outputs": [],
   "source": [
    "learn.sched.plot_lr()"
   ]
  },
  {
   "cell_type": "code",
   "execution_count": null,
   "metadata": {
    "_uuid": "df25dc961326f3e554b9c4d38525705664ec5075",
    "collapsed": true
   },
   "outputs": [],
   "source": [
    "learn.save('Unet34_256_1')"
   ]
  },
  {
   "cell_type": "markdown",
   "metadata": {
    "_uuid": "a5f92ae7e3e348f95129a3742ad76e4a502bf6d1"
   },
   "source": [
    "### Visualization"
   ]
  },
  {
   "cell_type": "code",
   "execution_count": null,
   "metadata": {
    "_uuid": "fb4a8386560ebde1f2277d94ecb5ee4a1bbc50d2",
    "collapsed": true
   },
   "outputs": [],
   "source": [
    "def Show_images(x,yp,yt):\n",
    "    columns = 3\n",
    "    rows = min(bs,8)\n",
    "    fig=plt.figure(figsize=(columns*4, rows*4))\n",
    "    for i in range(rows):\n",
    "        fig.add_subplot(rows, columns, 3*i+1)\n",
    "        plt.axis('off')\n",
    "        plt.imshow(x[i])\n",
    "        fig.add_subplot(rows, columns, 3*i+2)\n",
    "        plt.axis('off')\n",
    "        plt.imshow(yp[i])\n",
    "        fig.add_subplot(rows, columns, 3*i+3)\n",
    "        plt.axis('off')\n",
    "        plt.imshow(yt[i])\n",
    "    plt.show()"
   ]
  },
  {
   "cell_type": "code",
   "execution_count": null,
   "metadata": {
    "_uuid": "0206fb587e6bb9ddfc7366f6d04e47101b275514",
    "collapsed": true
   },
   "outputs": [],
   "source": [
    "learn.model.eval();\n",
    "x,y = next(iter(md.val_dl))\n",
    "yp = to_np(F.sigmoid(learn.model(V(x))))"
   ]
  },
  {
   "cell_type": "code",
   "execution_count": null,
   "metadata": {
    "_uuid": "8cda6a85fcbe5263406777a19729d0aec890ab99",
    "collapsed": true
   },
   "outputs": [],
   "source": [
    "Show_images(np.asarray(md.val_ds.denorm(x)), yp, y)"
   ]
  },
  {
   "cell_type": "markdown",
   "metadata": {
    "_uuid": "8f0b3a89ccb06468283d8e2611c3981895aae24a"
   },
   "source": [
    "### Training (384x384)"
   ]
  },
  {
   "cell_type": "code",
   "execution_count": null,
   "metadata": {
    "_uuid": "99f0972e31576ba82335a54825cc71853e7a5afd",
    "collapsed": true
   },
   "outputs": [],
   "source": [
    "sz = 384 #image size\n",
    "bs = 32  #batch size\n",
    "\n",
    "md = get_data(sz,bs)\n",
    "learn.set_data(md)\n",
    "learn.unfreeze()\n",
    "learn.bn_freeze(True)"
   ]
  },
  {
   "cell_type": "code",
   "execution_count": null,
   "metadata": {
    "_uuid": "5d40a6e24844002d52bb844d2a4873c164d06e39",
    "collapsed": true
   },
   "outputs": [],
   "source": [
    "learn.fit(lrs/5,1,wds=wd,cycle_len=2,use_clr=(10,8))"
   ]
  },
  {
   "cell_type": "code",
   "execution_count": null,
   "metadata": {
    "_uuid": "fce1cccfb4fd63853d31ae3af9f2e2897ae1e802",
    "collapsed": true
   },
   "outputs": [],
   "source": [
    "learn.save('Unet34_384_1')"
   ]
  },
  {
   "cell_type": "markdown",
   "metadata": {
    "_uuid": "0e129b20579e8dff1523f9da36e4b54bcbde9b58"
   },
   "source": [
    "### Visualization"
   ]
  },
  {
   "cell_type": "code",
   "execution_count": null,
   "metadata": {
    "_uuid": "c92425b7455925580e6d03b373babaebc261047e",
    "collapsed": true
   },
   "outputs": [],
   "source": [
    "learn.model.eval();\n",
    "x,y = next(iter(md.val_dl))\n",
    "yp = to_np(F.sigmoid(learn.model(V(x))))"
   ]
  },
  {
   "cell_type": "code",
   "execution_count": null,
   "metadata": {
    "_uuid": "507ef05ee2301e0ebcc69a679a4eb57a99a88e4f",
    "collapsed": true
   },
   "outputs": [],
   "source": [
    "Show_images(np.asarray(md.val_ds.denorm(x)), yp, y)"
   ]
  },
  {
   "cell_type": "markdown",
   "metadata": {
    "_uuid": "8a2b5a8a6d4826f8ef2ccb1b1e26c749edae3aa9"
   },
   "source": [
    "### Training (768x768)"
   ]
  },
  {
   "cell_type": "code",
   "execution_count": null,
   "metadata": {
    "_uuid": "82744b9640856bc71a861240263f8d314544ebe6",
    "collapsed": true
   },
   "outputs": [],
   "source": [
    "sz = 768 #image size\n",
    "bs = 6  #batch size\n",
    "\n",
    "md = get_data(sz,bs)\n",
    "learn.set_data(md)\n",
    "learn.unfreeze()\n",
    "learn.bn_freeze(True)"
   ]
  },
  {
   "cell_type": "code",
   "execution_count": null,
   "metadata": {
    "_uuid": "dfbb04dc51276c62a97b5a02ff92dbb20b206a3f",
    "collapsed": true
   },
   "outputs": [],
   "source": [
    "learn.fit(lrs/10,1,wds=wd,cycle_len=1,use_clr=(10,8))"
   ]
  },
  {
   "cell_type": "markdown",
   "metadata": {
    "_uuid": "addc63f66aa829048a2e285964771967d409aa93"
   },
   "source": [
    "Training for just one epoch is insufficient to achieve high dice. However, if the training is continued, the dice can reach 0.90+."
   ]
  },
  {
   "cell_type": "code",
   "execution_count": null,
   "metadata": {
    "_uuid": "b6bc3ceacb7e616594fd2c8ea960e2e733ba81de",
    "collapsed": true
   },
   "outputs": [],
   "source": [
    "learn.save('Unet34_768_1')"
   ]
  },
  {
   "cell_type": "markdown",
   "metadata": {
    "_uuid": "c7584a0ba0ad6667987757dbe5cf3a3dcfea6614"
   },
   "source": [
    "And finally, I put a picture (original image, prediction, ground truth) obtained by the model with dice 0.895 trained further on full resolution images in an independent run. Apart from one tiny ship in the last image, everything is captured. When I zoomed it in, it is really not clear if it is a ship of just a small island: I see only several white pixels, and there are several small islands under the water. Another interesting thing is that the model is able to capture details that it was not trained for. In particular, in 4-th image the model captures antennas (upper right ship) and the shape of ships, even if training set is composed of pixelized bounding boxes."
   ]
  },
  {
   "cell_type": "markdown",
   "metadata": {
    "_uuid": "4e23a4bf43cf33af8e36b93035642b30e3853bea"
   },
   "source": [
    "![1](https://image.ibb.co/mrqdze/Ship_Detection.png)"
   ]
  }
 ],
 "metadata": {
  "kernelspec": {
   "display_name": "Python 3",
   "language": "python",
   "name": "python3"
  },
  "language_info": {
   "codemirror_mode": {
    "name": "ipython",
    "version": 3
   },
   "file_extension": ".py",
   "mimetype": "text/x-python",
   "name": "python",
   "nbconvert_exporter": "python",
   "pygments_lexer": "ipython3",
   "version": "3.6.5"
  }
 },
 "nbformat": 4,
 "nbformat_minor": 1
}
